{
 "cells": [
  {
   "cell_type": "code",
   "execution_count": 1,
   "id": "d731ba11-4c14-4e64-beee-eb712e8a67e8",
   "metadata": {},
   "outputs": [
    {
     "name": "stdout",
     "output_type": "stream",
     "text": [
      "10\n",
      "20\n",
      "pazartesi\n"
     ]
    },
    {
     "data": {
      "text/plain": [
       "str"
      ]
     },
     "execution_count": 1,
     "metadata": {},
     "output_type": "execute_result"
    }
   ],
   "source": [
    "a=10\n",
    "var1=20\n",
    "x=\"pazartesi\"\n",
    "\n",
    "print(a)\n",
    "print(var1)\n",
    "print(x)\n",
    "type(x)"
   ]
  },
  {
   "cell_type": "code",
   "execution_count": 2,
   "id": "fd9821e3-1ce8-4227-8515-965ffdaec888",
   "metadata": {},
   "outputs": [
    {
     "name": "stdout",
     "output_type": "stream",
     "text": [
      "[10, 20, 30]\n"
     ]
    }
   ],
   "source": [
    "var1=10\n",
    "var2=20\n",
    "var3=30\n",
    "list_int=[10,20,30]\n",
    "print(list_int)"
   ]
  },
  {
   "cell_type": "code",
   "execution_count": 3,
   "id": "3f680667-62ac-4c4b-85b4-c380bb49f326",
   "metadata": {},
   "outputs": [
    {
     "data": {
      "text/plain": [
       "10"
      ]
     },
     "execution_count": 3,
     "metadata": {},
     "output_type": "execute_result"
    }
   ],
   "source": [
    "list_int[0]"
   ]
  },
  {
   "cell_type": "code",
   "execution_count": 4,
   "id": "9a13be4f-1cd9-43e5-8542-848fe5dceb03",
   "metadata": {},
   "outputs": [
    {
     "data": {
      "text/plain": [
       "30"
      ]
     },
     "execution_count": 4,
     "metadata": {},
     "output_type": "execute_result"
    }
   ],
   "source": [
    "list_int[-1]"
   ]
  },
  {
   "cell_type": "code",
   "execution_count": 5,
   "id": "4e14bb41-063a-4dad-9bff-6c4051b2c64f",
   "metadata": {},
   "outputs": [
    {
     "data": {
      "text/plain": [
       "[10, 20, 30]"
      ]
     },
     "execution_count": 5,
     "metadata": {},
     "output_type": "execute_result"
    }
   ],
   "source": [
    "list_int[0:3]"
   ]
  },
  {
   "cell_type": "code",
   "execution_count": 6,
   "id": "310ad8b0-3011-42d4-9bda-30efa71a5d0d",
   "metadata": {},
   "outputs": [
    {
     "name": "stdout",
     "output_type": "stream",
     "text": [
      "[10, 20, 30, 25]\n"
     ]
    }
   ],
   "source": [
    "list_int.append(25)\n",
    "print(list_int)"
   ]
  },
  {
   "cell_type": "code",
   "execution_count": 7,
   "id": "00c95866-8617-4815-8036-840f28f2fd4e",
   "metadata": {},
   "outputs": [
    {
     "name": "stdout",
     "output_type": "stream",
     "text": [
      "[10, 20, 30]\n"
     ]
    }
   ],
   "source": [
    "list_int.remove(25)\n",
    "print(list_int)"
   ]
  },
  {
   "cell_type": "code",
   "execution_count": 8,
   "id": "3890ff15-c0b3-4a28-b6ba-97bd8da6504d",
   "metadata": {},
   "outputs": [
    {
     "name": "stdout",
     "output_type": "stream",
     "text": [
      "[30, 20, 10]\n"
     ]
    }
   ],
   "source": [
    "list_int.reverse()\n",
    "print(list_int)"
   ]
  },
  {
   "cell_type": "code",
   "execution_count": 9,
   "id": "6d9d1caf-bbbd-4aef-9b92-6579c7ddf236",
   "metadata": {},
   "outputs": [
    {
     "name": "stdout",
     "output_type": "stream",
     "text": [
      "[10, 20, 30]\n"
     ]
    }
   ],
   "source": [
    "list_int.sort()\n",
    "print(list_int)"
   ]
  },
  {
   "cell_type": "code",
   "execution_count": 10,
   "id": "e455c283-0181-4856-8aa2-7c7c35e18d01",
   "metadata": {},
   "outputs": [
    {
     "name": "stdout",
     "output_type": "stream",
     "text": [
      "30\n"
     ]
    }
   ],
   "source": [
    "x=10\n",
    "for each in list_int:\n",
    "    if(each>x):\n",
    "        x=each\n",
    "    else:\n",
    "        continue\n",
    "print(x)"
   ]
  },
  {
   "cell_type": "code",
   "execution_count": 11,
   "id": "57d14758-b2af-4b77-885d-7940ffa2ea5d",
   "metadata": {},
   "outputs": [
    {
     "name": "stdout",
     "output_type": "stream",
     "text": [
      "0\n",
      "1\n",
      "2\n",
      "3\n",
      "4\n"
     ]
    }
   ],
   "source": [
    "i=0\n",
    "while(i<5):\n",
    "    print(i)\n",
    "    i=i+1"
   ]
  },
  {
   "cell_type": "code",
   "execution_count": 12,
   "id": "23b74c72-7edf-4f69-ac97-cf53ff510c45",
   "metadata": {},
   "outputs": [
    {
     "data": {
      "text/plain": [
       "12.56"
      ]
     },
     "execution_count": 12,
     "metadata": {},
     "output_type": "execute_result"
    }
   ],
   "source": [
    "def cember_cevre(r,pi=3.14): \n",
    "    result=2*pi*r\n",
    "    return result\n",
    "cember_cevre(2) "
   ]
  },
  {
   "cell_type": "code",
   "execution_count": 13,
   "id": "6d82c8a9-611c-4468-90ed-f634bf5e2701",
   "metadata": {},
   "outputs": [
    {
     "data": {
      "text/plain": [
       "25"
      ]
     },
     "execution_count": 13,
     "metadata": {},
     "output_type": "execute_result"
    }
   ],
   "source": [
    "def hesapla(x):\n",
    "    result=x*x\n",
    "    return result\n",
    "hesapla(5)"
   ]
  },
  {
   "cell_type": "code",
   "execution_count": 14,
   "id": "0d9da4b7-46d8-4122-a56c-434ebacd146c",
   "metadata": {},
   "outputs": [
    {
     "name": "stdout",
     "output_type": "stream",
     "text": [
      "25\n"
     ]
    }
   ],
   "source": [
    "result=lambda x:x*x\n",
    "print(result(5))"
   ]
  },
  {
   "cell_type": "code",
   "execution_count": 15,
   "id": "d9d80008-20ab-49a4-a091-42b42c1ebbdd",
   "metadata": {},
   "outputs": [
    {
     "name": "stdout",
     "output_type": "stream",
     "text": [
      "{'betül': 23, 'beyza': 20, 'irem': 25}\n"
     ]
    }
   ],
   "source": [
    "dictionary={\"betül\":23,\"beyza\":20,\"irem\":25} #keys&values\n",
    "print(dictionary)"
   ]
  },
  {
   "cell_type": "code",
   "execution_count": 16,
   "id": "c8e4e2a4-69bf-41da-a450-a99fff397245",
   "metadata": {},
   "outputs": [
    {
     "data": {
      "text/plain": [
       "dict"
      ]
     },
     "execution_count": 16,
     "metadata": {},
     "output_type": "execute_result"
    }
   ],
   "source": [
    "type(dictionary)"
   ]
  },
  {
   "cell_type": "code",
   "execution_count": 17,
   "id": "9cac801b-3adf-4248-9c52-fc56de22d26e",
   "metadata": {},
   "outputs": [
    {
     "data": {
      "text/plain": [
       "dict_keys(['betül', 'beyza', 'irem'])"
      ]
     },
     "execution_count": 17,
     "metadata": {},
     "output_type": "execute_result"
    }
   ],
   "source": [
    "dictionary.keys() "
   ]
  },
  {
   "cell_type": "code",
   "execution_count": 18,
   "id": "301d74cb-abac-4d36-aa4b-1eb535369826",
   "metadata": {},
   "outputs": [
    {
     "data": {
      "text/plain": [
       "dict_values([23, 20, 25])"
      ]
     },
     "execution_count": 18,
     "metadata": {},
     "output_type": "execute_result"
    }
   ],
   "source": [
    "dictionary.values()"
   ]
  },
  {
   "cell_type": "code",
   "execution_count": 19,
   "id": "8363348a-30eb-4071-8793-cde42eea3bbc",
   "metadata": {},
   "outputs": [
    {
     "name": "stdout",
     "output_type": "stream",
     "text": [
      "yes\n"
     ]
    }
   ],
   "source": [
    "b=dictionary.keys()\n",
    "\n",
    "if \"betül\" in b:\n",
    "    print(\"yes\")\n",
    "else:\n",
    "    print(\"no\")"
   ]
  },
  {
   "cell_type": "code",
   "execution_count": null,
   "id": "fe294f44-0626-4a68-af72-9b9183907baf",
   "metadata": {},
   "outputs": [],
   "source": []
  }
 ],
 "metadata": {
  "kernelspec": {
   "display_name": "Python 3 (ipykernel)",
   "language": "python",
   "name": "python3"
  },
  "language_info": {
   "codemirror_mode": {
    "name": "ipython",
    "version": 3
   },
   "file_extension": ".py",
   "mimetype": "text/x-python",
   "name": "python",
   "nbconvert_exporter": "python",
   "pygments_lexer": "ipython3",
   "version": "3.11.7"
  }
 },
 "nbformat": 4,
 "nbformat_minor": 5
}
